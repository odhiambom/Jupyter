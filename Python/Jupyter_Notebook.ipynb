{
 "cells": [
  {
   "cell_type": "markdown",
   "metadata": {},
   "source": [
    "<center>\n",
    "    <img src=\"https://cf-courses-data.s3.us.cloud-object-storage.appdomain.cloud/IBMDeveloperSkillsNetwork-DS0105EN-SkillsNetwork/labs/Module2/images/SN_web_lightmode.png\" width=\"300\" alt=\"cognitiveclass.ai logo\">\n",
    "</center>\n"
   ]
  },
  {
   "cell_type": "markdown",
   "metadata": {},
   "source": [
    "#### Add your code below following the instructions given in the course\n"
   ]
  },
  {
   "cell_type": "markdown",
   "metadata": {},
   "source": [
    "# Jupyter Notebooks Graded Assignment"
   ]
  },
  {
   "cell_type": "markdown",
   "metadata": {},
   "source": [
    "## Introduction"
   ]
  },
  {
   "cell_type": "markdown",
   "metadata": {},
   "source": [
    "List of data science languages\n",
    "- Python\n",
    "- R\n",
    "- Stata"
   ]
  },
  {
   "cell_type": "markdown",
   "metadata": {},
   "source": [
    "List of data science libraries\n",
    "- Numpy\n",
    "- Pandas\n",
    "- Matplotlib\n",
    "- Tensorflow"
   ]
  },
  {
   "cell_type": "markdown",
   "metadata": {},
   "source": [
    "Table to show Data Science Tools\n",
    "\n",
    "| Tool          | Description                                                       |\n",
    "|---------------|-------------------------------------------------------------------|\n",
    "| Python        | A popular programming language used for data science and ML       |\n",
    "| R             | A language used for statistical computing and graphics            |\n",
    "| SQL           | A language used for managing and manipulating relational databases|\n",
    "| Tableau       | A data visualization tool                                         |\n",
    "| Power BI      | A business analytics and data visualisation tool by Microsoft     |\n",
    "| Apache Spark  | An open-source distributed computing system for data science and ML|\n",
    "| TensorFlow    | An open-source machine learning framework developed by Google     |\n",
    "| Scikit-learn  | A machine learning library for Python                             |\n",
    "| Pandas        | A library for data manipulation and analysis in Python            |\n",
    "| Numpy         | A library for numerical computing in Python                       |\n",
    "| PyTorch       | An open-source machine learning library developed by Facebook     |\n",
    "| SAS           | A statistical software suite used for data management and analysis|\n",
    "| MATLAB        | A numerical computing and visualization software                  |"
   ]
  },
  {
   "cell_type": "markdown",
   "metadata": {},
   "source": [
    "## Examples of Arithmetic expressions"
   ]
  },
  {
   "cell_type": "code",
   "execution_count": 3,
   "metadata": {},
   "outputs": [
    {
     "name": "stdout",
     "output_type": "stream",
     "text": [
      "23\n",
      "35\n"
     ]
    }
   ],
   "source": [
    "x = 3 + 4 * 5\n",
    "y = (3 + 4) * 5\n",
    "print(x)\n",
    "print(y)\n"
   ]
  },
  {
   "cell_type": "markdown",
   "metadata": {},
   "source": [
    "## Converting Minutes to Hours"
   ]
  },
  {
   "cell_type": "code",
   "execution_count": 5,
   "metadata": {},
   "outputs": [
    {
     "name": "stdout",
     "output_type": "stream",
     "text": [
      "The number of hours is: 20.0 hours\n"
     ]
    }
   ],
   "source": [
    "minutes = 1200\n",
    "\n",
    "hours = minutes / 60\n",
    "\n",
    "print(\"The number of hours is:\", hours, \"hours\")"
   ]
  },
  {
   "cell_type": "markdown",
   "metadata": {},
   "source": [
    "## Objectives\n",
    "\n",
    "- Learn Python for Data Science\n",
    "- Learn proper code documentation"
   ]
  },
  {
   "cell_type": "markdown",
   "metadata": {},
   "source": [
    "## Authors Name:\n",
    "### Moses Odhiambo"
   ]
  },
  {
   "cell_type": "code",
   "execution_count": null,
   "metadata": {},
   "outputs": [],
   "source": []
  }
 ],
 "metadata": {
  "kernelspec": {
   "display_name": "Python",
   "language": "python",
   "name": "conda-env-python-py"
  },
  "language_info": {
   "codemirror_mode": {
    "name": "ipython",
    "version": 3
   },
   "file_extension": ".py",
   "mimetype": "text/x-python",
   "name": "python",
   "nbconvert_exporter": "python",
   "pygments_lexer": "ipython3",
   "version": "3.7.12"
  }
 },
 "nbformat": 4,
 "nbformat_minor": 4
}
